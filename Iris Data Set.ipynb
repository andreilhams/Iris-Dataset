{
 "cells": [
  {
   "cell_type": "markdown",
   "id": "13a298e1",
   "metadata": {},
   "source": [
    "**1. Memanggil library yang dibutuhkan**"
   ]
  },
  {
   "cell_type": "code",
   "execution_count": 2,
   "id": "3d99714f",
   "metadata": {},
   "outputs": [],
   "source": [
    "import pandas as pd\n",
    "import matplotlib.pyplot as plt\n",
    "from sklearn import datasets\n",
    "from sklearn.neighbors import KNeighborsClassifier"
   ]
  },
  {
   "cell_type": "markdown",
   "id": "3bc16102",
   "metadata": {},
   "source": [
    "**2. Memanggil library dari dataset sklearn**"
   ]
  },
  {
   "cell_type": "code",
   "execution_count": 4,
   "id": "971d0e08",
   "metadata": {},
   "outputs": [],
   "source": [
    "dataBunga = datasets.load_iris()"
   ]
  },
  {
   "cell_type": "code",
   "execution_count": 5,
   "id": "8142690f",
   "metadata": {},
   "outputs": [
    {
     "name": "stdout",
     "output_type": "stream",
     "text": [
      "<class 'sklearn.utils.Bunch'>\n"
     ]
    }
   ],
   "source": [
    "print(type(dataBunga))"
   ]
  },
  {
   "cell_type": "code",
   "execution_count": 7,
   "id": "d27f1e30",
   "metadata": {},
   "outputs": [
    {
     "name": "stdout",
     "output_type": "stream",
     "text": [
      "dict_keys(['data', 'target', 'frame', 'target_names', 'DESCR', 'feature_names', 'filename'])\n"
     ]
    }
   ],
   "source": [
    "print(dataBunga.keys())"
   ]
  },
  {
   "cell_type": "code",
   "execution_count": 10,
   "id": "d434bb67",
   "metadata": {},
   "outputs": [
    {
     "name": "stdout",
     "output_type": "stream",
     "text": [
      "<class 'numpy.ndarray'> <class 'numpy.ndarray'>\n"
     ]
    }
   ],
   "source": [
    "print(type(dataBunga.data), type(dataBunga.target))"
   ]
  },
  {
   "cell_type": "code",
   "execution_count": 11,
   "id": "479c62a6",
   "metadata": {},
   "outputs": [
    {
     "name": "stdout",
     "output_type": "stream",
     "text": [
      "(150, 4)\n"
     ]
    }
   ],
   "source": [
    "print(dataBunga.data.shape)"
   ]
  },
  {
   "cell_type": "code",
   "execution_count": 12,
   "id": "6c41edd0",
   "metadata": {},
   "outputs": [
    {
     "name": "stdout",
     "output_type": "stream",
     "text": [
      "['setosa' 'versicolor' 'virginica']\n"
     ]
    }
   ],
   "source": [
    "print(dataBunga.target_names)"
   ]
  },
  {
   "cell_type": "markdown",
   "id": "ef8792e0",
   "metadata": {},
   "source": [
    "**3. Konversi dataset ke dalam tipe dataframe**"
   ]
  },
  {
   "cell_type": "code",
   "execution_count": 13,
   "id": "2afbb0f6",
   "metadata": {},
   "outputs": [],
   "source": [
    "X=dataBunga.data"
   ]
  },
  {
   "cell_type": "code",
   "execution_count": 14,
   "id": "16154992",
   "metadata": {},
   "outputs": [],
   "source": [
    "Y=dataBunga.target"
   ]
  },
  {
   "cell_type": "code",
   "execution_count": 15,
   "id": "ab971c00",
   "metadata": {},
   "outputs": [],
   "source": [
    "df=pd.DataFrame(X, columns=dataBunga.feature_names)"
   ]
  },
  {
   "cell_type": "code",
   "execution_count": 16,
   "id": "1e407a4b",
   "metadata": {},
   "outputs": [
    {
     "name": "stdout",
     "output_type": "stream",
     "text": [
      "   sepal length (cm)  sepal width (cm)  petal length (cm)  petal width (cm)\n",
      "0                5.1               3.5                1.4               0.2\n",
      "1                4.9               3.0                1.4               0.2\n",
      "2                4.7               3.2                1.3               0.2\n",
      "3                4.6               3.1                1.5               0.2\n",
      "4                5.0               3.6                1.4               0.2\n",
      "5                5.4               3.9                1.7               0.4\n",
      "6                4.6               3.4                1.4               0.3\n",
      "7                5.0               3.4                1.5               0.2\n",
      "8                4.4               2.9                1.4               0.2\n",
      "9                4.9               3.1                1.5               0.1\n"
     ]
    }
   ],
   "source": [
    "print(df.head(10))"
   ]
  },
  {
   "cell_type": "markdown",
   "id": "f36699bf",
   "metadata": {},
   "source": [
    "**4. Memanggil KNN Classifier**"
   ]
  },
  {
   "cell_type": "code",
   "execution_count": 17,
   "id": "645c7438",
   "metadata": {},
   "outputs": [],
   "source": [
    "knn=KNeighborsClassifier(n_neighbors=6, weights='uniform', algorithm='auto', metric='euclidean')"
   ]
  },
  {
   "cell_type": "code",
   "execution_count": 19,
   "id": "b7268303",
   "metadata": {},
   "outputs": [],
   "source": [
    "X_train=dataBunga['data']"
   ]
  },
  {
   "cell_type": "code",
   "execution_count": 20,
   "id": "24fe735a",
   "metadata": {},
   "outputs": [],
   "source": [
    "Y_train=dataBunga['target']"
   ]
  },
  {
   "cell_type": "code",
   "execution_count": 21,
   "id": "46674312",
   "metadata": {},
   "outputs": [
    {
     "data": {
      "text/plain": [
       "KNeighborsClassifier(metric='euclidean', n_neighbors=6)"
      ]
     },
     "execution_count": 21,
     "metadata": {},
     "output_type": "execute_result"
    }
   ],
   "source": [
    "knn.fit(X_train, Y_train)"
   ]
  },
  {
   "cell_type": "markdown",
   "id": "3954cce7",
   "metadata": {},
   "source": [
    "**5. Melakukan Prediksi**"
   ]
  },
  {
   "cell_type": "code",
   "execution_count": 29,
   "id": "96d5826d",
   "metadata": {},
   "outputs": [],
   "source": [
    "DataPred = [[8.2, 3.5, 5.7, 1.5]]"
   ]
  },
  {
   "cell_type": "code",
   "execution_count": 30,
   "id": "eba66ee1",
   "metadata": {},
   "outputs": [],
   "source": [
    "Y_pred = knn.predict(DataPred)"
   ]
  },
  {
   "cell_type": "code",
   "execution_count": 31,
   "id": "f491d0ea",
   "metadata": {},
   "outputs": [
    {
     "name": "stdout",
     "output_type": "stream",
     "text": [
      "Hasil Prediksi -->> : Jenis Bunga  [2]\n"
     ]
    }
   ],
   "source": [
    "print(\"Hasil Prediksi -->> : Jenis Bunga \",Y_pred)"
   ]
  },
  {
   "cell_type": "code",
   "execution_count": null,
   "id": "ed714989",
   "metadata": {},
   "outputs": [],
   "source": []
  }
 ],
 "metadata": {
  "kernelspec": {
   "display_name": "Python 3",
   "language": "python",
   "name": "python3"
  },
  "language_info": {
   "codemirror_mode": {
    "name": "ipython",
    "version": 3
   },
   "file_extension": ".py",
   "mimetype": "text/x-python",
   "name": "python",
   "nbconvert_exporter": "python",
   "pygments_lexer": "ipython3",
   "version": "3.8.8"
  }
 },
 "nbformat": 4,
 "nbformat_minor": 5
}
